{
 "cells": [
  {
   "cell_type": "markdown",
   "metadata": {},
   "source": [
    "# Embeddings and vector search in HuggingFace\n",
    "\n",
    "## Resources \n",
    " - [HF Tutorial Video # 42- Text Embeddings and Semantic search](https://www.youtube.com/watch?v=OATCgQtNX2o&list=PLo2EIpI_JMQvWfQndUesu0nPBAtZ9gP1o&index=42)"
   ]
  },
  {
   "cell_type": "code",
   "execution_count": 1,
   "metadata": {},
   "outputs": [],
   "source": [
    "import transformers\n",
    "import datasets\n",
    "import torch\n",
    "\n",
    "from transformers import AutoTokenizer, AutoModel"
   ]
  },
  {
   "cell_type": "code",
   "execution_count": 2,
   "metadata": {},
   "outputs": [],
   "source": [
    "# The next two are for my diagramming. Nothing to do with HF\n",
    "%load_ext nb_js_diagrammers\n",
    "import iplantuml"
   ]
  },
  {
   "cell_type": "markdown",
   "metadata": {},
   "source": [
    "## Per Token embeddings\n",
    "\n",
    "BERT (_and maybe other encoder models_) produces one embedding per token. The code below (_taken from the HF video_) shows that the last-layer's hidden state is of shape `torch.size([3,9,384])` i.e., [ `num sentences`, `num tokens`, `embedding size`]. This represents one embedding-vector per token.\n",
    "\n",
    "However, when we want to find vector simiarity or semantic-similarity between two sentences, we want an embedding per sentence. "
   ]
  },
  {
   "cell_type": "code",
   "execution_count": 3,
   "metadata": {},
   "outputs": [
    {
     "data": {
      "application/vnd.jupyter.widget-view+json": {
       "model_id": "19306de1ac7e49e381edb68f3714395c",
       "version_major": 2,
       "version_minor": 0
      },
      "text/plain": [
       "Downloading tokenizer_config.json:   0%|          | 0.00/350 [00:00<?, ?B/s]"
      ]
     },
     "metadata": {},
     "output_type": "display_data"
    },
    {
     "data": {
      "application/vnd.jupyter.widget-view+json": {
       "model_id": "792f7de16c424d6b8a955be04a68692d",
       "version_major": 2,
       "version_minor": 0
      },
      "text/plain": [
       "Downloading vocab.txt:   0%|          | 0.00/232k [00:00<?, ?B/s]"
      ]
     },
     "metadata": {},
     "output_type": "display_data"
    },
    {
     "data": {
      "application/vnd.jupyter.widget-view+json": {
       "model_id": "be55b033d18f4a8dbc4fecea8e71350e",
       "version_major": 2,
       "version_minor": 0
      },
      "text/plain": [
       "Downloading tokenizer.json:   0%|          | 0.00/466k [00:00<?, ?B/s]"
      ]
     },
     "metadata": {},
     "output_type": "display_data"
    },
    {
     "data": {
      "application/vnd.jupyter.widget-view+json": {
       "model_id": "0863b0751b6946cd8f5fb8cdea83f82a",
       "version_major": 2,
       "version_minor": 0
      },
      "text/plain": [
       "Downloading (…)cial_tokens_map.json:   0%|          | 0.00/112 [00:00<?, ?B/s]"
      ]
     },
     "metadata": {},
     "output_type": "display_data"
    },
    {
     "data": {
      "application/vnd.jupyter.widget-view+json": {
       "model_id": "059076ffa97d45aebaa1cc2c80d6d091",
       "version_major": 2,
       "version_minor": 0
      },
      "text/plain": [
       "Downloading config.json:   0%|          | 0.00/612 [00:00<?, ?B/s]"
      ]
     },
     "metadata": {},
     "output_type": "display_data"
    },
    {
     "data": {
      "application/vnd.jupyter.widget-view+json": {
       "model_id": "6a98d04d97d64c399a59d1b38869c6d8",
       "version_major": 2,
       "version_minor": 0
      },
      "text/plain": [
       "Downloading pytorch_model.bin:   0%|          | 0.00/90.9M [00:00<?, ?B/s]"
      ]
     },
     "metadata": {},
     "output_type": "display_data"
    },
    {
     "name": "stdout",
     "output_type": "stream",
     "text": [
      "Token Embedding shape: torch.Size([3, 9, 384])\n"
     ]
    }
   ],
   "source": [
    "# Code from first slide on\n",
    "# https://www.youtube.com/watch?v=OATCgQtNX2o&list=PLo2EIpI_JMQvWfQndUesu0nPBAtZ9gP1o&index=42\n",
    "sentences = [\n",
    "    \"I took my dog for a walk\",\n",
    "    \"Today is going to rain\",\n",
    "    \"I took my cat for a walk\"\n",
    "]\n",
    "\n",
    "# Previous examples used bert-uncased. but this is described as a model that maps sentences & paragraphs\n",
    "# to a 384 dim vector space designed for semanic search or clustering. Still BERT based ?\n",
    "# https://huggingface.co/sentence-transformers/all-MiniLM-L6-v2\n",
    "model_ckpt = \"sentence-transformers/all-MiniLM-L6-v2\"\n",
    "tokenizer = AutoTokenizer.from_pretrained(model_ckpt)\n",
    "\n",
    "# Does AutoModel remove the final head like mentioned earlier? (What does it have anyway in this model ?)\n",
    "model = AutoModel.from_pretrained(model_ckpt)\n",
    "\n",
    "encoded_input = tokenizer(sentences, padding=True, return_tensors=\"pt\")\n",
    "\n",
    "with torch.no_grad():\n",
    "    model_output = model(**encoded_input)\n",
    "\n",
    "token_embeddings = model_output.last_hidden_state\n",
    "print(f\"Token Embedding shape: {token_embeddings.size()}\")"
   ]
  },
  {
   "cell_type": "markdown",
   "metadata": {},
   "source": [
    "## Pooling to get per-sentence embedding\n",
    "\n",
    "He says use pooling to get the per-sentence embedding (_will need to scratch that a bit later_)\n",
    " - Use the embedding of the [CLS] token (_recall that this represents the entire input_) _The following code shows that the `[CLS]` token is indeed added as the first token, so we can take the vector for that ?_"
   ]
  },
  {
   "cell_type": "code",
   "execution_count": 19,
   "metadata": {},
   "outputs": [
    {
     "name": "stdout",
     "output_type": "stream",
     "text": [
      "Tokenized input: {'input_ids': [[101, 1045, 2165, 2026, 3899, 2005, 1037, 3328, 102], [101, 2651, 2003, 2183, 2000, 4542, 102, 0, 0], [101, 1045, 2165, 2026, 4937, 2005, 1037, 3328, 102]], 'token_type_ids': [[0, 0, 0, 0, 0, 0, 0, 0, 0], [0, 0, 0, 0, 0, 0, 0, 0, 0], [0, 0, 0, 0, 0, 0, 0, 0, 0]], 'attention_mask': [[1, 1, 1, 1, 1, 1, 1, 1, 1], [1, 1, 1, 1, 1, 1, 1, 0, 0], [1, 1, 1, 1, 1, 1, 1, 1, 1]]}\n",
      "Decoded first sentence → [CLS] i took my dog for a walk [SEP]\n"
     ]
    }
   ],
   "source": [
    "tokenized_input = tokenizer(sentences, padding=True)\n",
    "print(f\"Tokenized input: {tokenized_input}\")\n",
    "print(f\"Decoded first sentence → {tokenizer.decode(tokenized_input['input_ids'][0])}\")"
   ]
  },
  {
   "cell_type": "code",
   "execution_count": 57,
   "metadata": {},
   "outputs": [
    {
     "name": "stdout",
     "output_type": "stream",
     "text": [
      "Sentence embeddings shape: torch.Size([3, 384])\n",
      "tensor([[ 0.0095,  0.0274,  0.0853,  ...,  0.0229, -0.1072, -0.0176],\n",
      "        [-0.0242,  0.0483,  0.1164,  ..., -0.0661, -0.0355,  0.0466],\n",
      "        [ 0.0667,  0.0301,  0.0635,  ...,  0.0252, -0.1078, -0.0269]])\n"
     ]
    }
   ],
   "source": [
    "# Pooled output\n",
    "import torch.nn.functional as F\n",
    "\n",
    "def mean_pooling(model_output, attention_mask):\n",
    "    #( NumSentences x NumTokens x VectorSize)\n",
    "    token_embeddings = model_output.last_hidden_state\n",
    "    \n",
    "    # Don't include the padding tokens in the Avg. So use the attention-mask to 0 out those \n",
    "    # contributions\n",
    "    #\n",
    "    # Unsqueeze (See pyTorch.ipynb) adds a dimension to the end reshaping the tensor\n",
    "    #   attention mask is a (NumSentences x NumTokens) shaped (since it is based on the input)\n",
    "    #   unshaping(-1) makes it (NumSentences x NumTokens x 1)\n",
    "    # Expand expands the dimension by duplicating stuff. So now the attention_mask is same size \n",
    "    #   as the token_embeddings which is (NumSentences x NumTokens x VectorSize)\n",
    "    input_mask_expanded = attention_mask.unsqueeze(-1).expand(token_embeddings.size()).float()    \n",
    "\n",
    "\n",
    "    # input_mask_expanded.sum(1) sums along dim-1 (NumTokens)\n",
    "    # and reduce the tensor to (NumSequences x VectorSize)\n",
    "    # Basically sum the embeddings over Tokens and divide by mask-sum (these are usually just \n",
    "    # Sigma(numTokens))\n",
    "    return torch.sum( token_embeddings * input_mask_expanded, 1) / torch.clamp(\n",
    "        input_mask_expanded.sum(1), min=1e-9\n",
    "    )\n",
    "\n",
    "# Attention-mask is a [[], [], []] → List[[list per sentence]]\n",
    "sentence_embeddings = mean_pooling(model_output, encoded_input[\"attention_mask\"])\n",
    "\n",
    "# normalize embeddings\n",
    "sentence_embeddings = F.normalize(sentence_embeddings, p=2, dim=1)\n",
    "print(f\"Sentence embeddings shape: {sentence_embeddings.size()}\")"
   ]
  },
  {
   "cell_type": "markdown",
   "metadata": {},
   "source": [
    "Once we have sentence encodings, we can check their cosine-similarity. The video uses `scikitlearn`. I know torch has builtin cosine similarity and cosine loss functions. So should be able to use that. The scikitlearn code is listed here (_there is no code to actually show the plot_).\n",
    "\n",
    "```python\n",
    "import numpy as np\n",
    "from sklearn.metrics.pairwise import cosine_similarity\n",
    "\n",
    "sentence_embeddings = sentence_embeddings.detach().numpy()\n",
    "\n",
    "scores = np.zeros((sentence_embeddings.shape[0], sentence_embeddings.shape[0])\n",
    "\n",
    "for idx in range(sentence_embeddings.shape[0]):\n",
    "  scores[idx, :] = cosine_similarity([sentence_embeddings[idx]], sentence_embeddings)[0]\n",
    "```\n",
    "\n",
    "While scikit learn is good and all. I want to see if a all-pytorch implementation can be found. Googling lead me to [pytorch-BERT-sentence-similarity](https://www.kaggle.com/code/eriknovak/pytorch-bert-sentence-similarity) which explores sentence similarity in multiple ways. As a bonus also has matplotlib code for the comparison matrix.\n",
    " - `[CLS]` token's vector representation\n",
    " - Mean \n",
    " - max-timeline\n",
    "\n",
    "While the HF code example uses `model_output.last_hidden_state` (_of size (NumSentences x NumTokens x VectorSize)_) to get the embeddings, the link above uses `model_output[0]` and states that `model_output[1]` has the `[CLS]` embeddings meant for further training for the `NSP` objective. He then proceeds to say that we won't be using it but actually does by using `embeds[:, 0, :]` which, if you recall that the `[CLS]` token is the first one in the sentence, actually gets the `[CLS]` token's embedding. So what is in `model_output[1]` ?\n",
    "\n",
    "> I am not making any attempt to refactor any of the code below."
   ]
  },
  {
   "cell_type": "code",
   "execution_count": 58,
   "metadata": {},
   "outputs": [],
   "source": [
    "# Visualization code from https://www.kaggle.com/code/eriknovak/pytorch-bert-sentence-similarity\n",
    "import matplotlib.pyplot as plt\n",
    "import numpy as np\n",
    "\n",
    "def visualize(distances, figsize=(10, 5), titles=None):\n",
    "    # get the number of columns\n",
    "    ncols = len(distances)\n",
    "    # create the subplot placeholders\n",
    "    fig, ax = plt.subplots(ncols=ncols, figsize=figsize)\n",
    "    \n",
    "    for i in range(ncols):\n",
    "        \n",
    "        # get the axis in which we will draw the matrix\n",
    "        axes = ax[i] if ncols > 1 else ax\n",
    "        \n",
    "        # get the i-th distance\n",
    "        distance = distances[i]\n",
    "        \n",
    "        # create the heatmap\n",
    "        axes.imshow(distance)\n",
    "        \n",
    "        # show the ticks\n",
    "        axes.set_xticks(np.arange(distance.shape[0]))\n",
    "        axes.set_yticks(np.arange(distance.shape[1]))\n",
    "        \n",
    "        # set the tick labels\n",
    "        axes.set_xticklabels(np.arange(distance.shape[0]))\n",
    "        axes.set_yticklabels(np.arange(distance.shape[1]))\n",
    "        \n",
    "        # set the values in the heatmap\n",
    "        for j in range(distance.shape[0]):\n",
    "            for k in range(distance.shape[1]):\n",
    "                text = axes.text(k, j, str(round(distance[j, k], 3)),\n",
    "                               ha=\"center\", va=\"center\", color=\"w\")\n",
    "        \n",
    "        # set the title of the subplot\n",
    "        title = titles[i] if titles and len(titles) > i else \"Text Distance\"\n",
    "        axes.set_title(title, fontsize=\"x-large\")\n",
    "        \n",
    "    fig.tight_layout()\n",
    "    plt.show()\n"
   ]
  },
  {
   "cell_type": "code",
   "execution_count": 69,
   "metadata": {},
   "outputs": [],
   "source": [
    "\"\"\"\n",
    "The three smilarity metrics I am trying out from https://www.kaggle.com/code/eriknovak/pytorch-bert-sentence-similarity\n",
    "use this version of cosine-similarity\n",
    "\n",
    "Send in a normalized tensor of shape(N x V) where N is the number of sentences and V, the vector embedding\n",
    "\"\"\"\n",
    "def _pairwise_cosine_similarity_kaggle(normalized):\n",
    "    return normalized.matmul(normalized.T)        \n",
    "\n",
    "\"\"\"\n",
    "https://medium.com/@dhruvbird/all-pairs-cosine-similarity-in-pytorch-867e722c8572 \n",
    "buildsup and explains code to build the pairwise cosinesimilarity based on pytorches\n",
    "nn.cosine_similarity that works on two vectors.\n",
    "\n",
    "This is some voodoo. Read the link for the full explanation of how this works\n",
    "\"\"\"\n",
    "def _pairwise_cosine_similarity_ptorch_oneliner(normalized):    \n",
    "    return F.cosine_similarity(normalized[None,:,:], normalized[:, None, :], dim=-1)\n",
    "    #return _pairwise_cosine_similarity_kaggle(normalized)\n",
    "    \n",
    "\n",
    "\n",
    "def _pairwise_cosine_similarity(normalized):\n",
    "    return _pairwise_cosine_similarity_ptorch_oneliner(normalized)\n",
    "\n",
    "\"\"\"\n",
    "Send in a normalized tensor of shape(N x V) where N is the number of sentences and V, the vector embedding\n",
    "returns: The pair-wise cosine similarity measure\n",
    "\n",
    "Note that the visualization method expects a numpy array (the round call specifically)\n",
    "so we cast things to a numpy array.\n",
    "\"\"\"\n",
    "def pairwise_cosine_similarity(normalized):\n",
    "    return _pairwise_cosine_similarity(normalized).numpy()    \n",
    "\n",
    "def pairwise_cosine_distance(normalized):\n",
    "    cosine_similarity = _pairwise_cosine_similarity(normalized)\n",
    "    cosine_dist       = cosine_similarity.new_ones(cosine_similarity.size()) - cosine_similarity\n",
    "    return cosine_dist.numpy()"
   ]
  },
  {
   "cell_type": "code",
   "execution_count": 70,
   "metadata": {},
   "outputs": [
    {
     "data": {
      "image/png": "[encoded data removed]",
      "text/plain": [
       "<Figure size 1000x500 with 1 Axes>"
      ]
     },
     "metadata": {},
     "output_type": "display_data"
    }
   ],
   "source": [
    "def gen_CLS_similarity(model_output):        \n",
    "    token_embeddings = model_output.last_hidden_state\n",
    "\n",
    "    # Note that the `[CLS]` token is the first one in the sentence's encoding.\n",
    "    CLSs = token_embeddings[:, 0, :]\n",
    "\n",
    "    # Normalize along dim=1 Which is the Token-axis.\n",
    "    # This is a L_p norm https://en.wikipedia.org/wiki/Lp_space. With p=2, it becomes the \n",
    "    # standard Euceldian norm (Sqrt of sum of squares)\n",
    "    normalized = F.normalize(CLSs, p=2, dim=1)    \n",
    "    return pairwise_cosine_distance(normalized)\n",
    "\n",
    "cls_similarity_dist = gen_CLS_similarity(model_output)\n",
    "visualize([cls_similarity_dist], titles=[\"CLS Dist\"])\n"
   ]
  },
  {
   "cell_type": "code",
   "execution_count": 39,
   "metadata": {},
   "outputs": [
    {
     "data": {
      "image/png": "[encoded data removed]",
      "text/plain": [
       "<Figure size 1000x500 with 1 Axes>"
      ]
     },
     "metadata": {},
     "output_type": "display_data"
    }
   ],
   "source": [
    "# Compute the mean similarity distance\n",
    "# Use the mean of the vectors across all tokens of a sentence\n",
    "def gen_mean_similarity(model_output):\n",
    "    token_embeddings = model_output.last_hidden_state\n",
    "\n",
    "    # Take the mean along the tokens dimension.\n",
    "    # each token index points to a vector so the mean is also a vector (element-wize adds)\n",
    "    # Likely to be the same as HF's mean pooling\n",
    "    MEANS = token_embeddings.mean(dim=1)\n",
    "\n",
    "    # Normalize along dim=1 Which is the Token-axis.\n",
    "    # This is a L_p norm https://en.wikipedia.org/wiki/Lp_space. With p=2, it becomes the \n",
    "    # standard Euceldian norm (Sqrt of sum of squares)\n",
    "    normalized = F.normalize(MEANS, p=2, dim=1)\n",
    "\n",
    "    return pairwise_cosine_distance(normalized)\n",
    "\n",
    "mean_similarity_dist = gen_mean_similarity(model_output)\n",
    "visualize([mean_similarity_dist], titles=[\"MEAN Dist\"])"
   ]
  },
  {
   "cell_type": "code",
   "execution_count": 73,
   "metadata": {},
   "outputs": [
    {
     "name": "stdout",
     "output_type": "stream",
     "text": [
      "[[1.         0.16433036 0.829093  ]\n",
      " [0.16433036 1.0000001  0.16265826]\n",
      " [0.829093   0.16265826 1.0000001 ]]\n"
     ]
    },
    {
     "data": {
      "image/png": "[encoded data removed]",
      "text/plain": [
       "<Figure size 1000x500 with 1 Axes>"
      ]
     },
     "metadata": {},
     "output_type": "display_data"
    }
   ],
   "source": [
    "# max-over-time, refers to the max element across the vectors along each of the dimensions\n",
    "def gen_max_similarity(model_output):\n",
    "    token_embeddings = model_output.last_hidden_state\n",
    "\n",
    "    # Take the mean along the tokens dimension.\n",
    "    # each token index points to a vector so the mean is also a vector (element-wize adds)\n",
    "    # Likely to be the same as HF's mean pooling\n",
    "    MAXS, _ = token_embeddings.max(dim=1)\n",
    "\n",
    "    # Normalize along dim=1 Which is the Token-axis.\n",
    "    # This is a L_p norm https://en.wikipedia.org/wiki/Lp_space. With p=2, it becomes the \n",
    "    # standard Euceldian norm (Sqrt of sum of squares)\n",
    "    normalized = F.normalize(MAXS, p=2, dim=1)    \n",
    "    return pairwise_cosine_similarity(normalized)\n",
    "\n",
    "max_similarity_dist = gen_mean_similarity(model_output)\n",
    "visualize([max_similarity_dist], titles=[\"MAX Dist\"])"
   ]
  },
  {
   "cell_type": "code",
   "execution_count": 75,
   "metadata": {},
   "outputs": [
    {
     "data": {
      "image/png": "[encoded data removed]",
      "text/plain": [
       "<Figure size 1000x500 with 1 Axes>"
      ]
     },
     "metadata": {},
     "output_type": "display_data"
    }
   ],
   "source": [
    "# Now generate the similarity from the video lesson\n",
    "# https://www.youtube.com/watch?v=OATCgQtNX2o&list=PLo2EIpI_JMQvWfQndUesu0nPBAtZ9gP1o&index=42\n",
    "#\n",
    "# Note that sentence_embeddings has already been normalized\n",
    "# ✔️ I get the same plot the lesson shows (Timestamp 2.10/3.29)\n",
    "sentence_similarity = pairwise_cosine_similarity(sentence_embeddings)\n",
    "visualize([sentence_similarity], titles=[\"Video 42 - Similarity\"])"
   ]
  },
  {
   "cell_type": "markdown",
   "metadata": {},
   "source": [
    "# Semantic Search\n",
    "\n",
    "Given that we are dealing with embeddings, search is like nearest-neighbors with cosine-similarity as the metric. \n"
   ]
  },
  {
   "cell_type": "code",
   "execution_count": 78,
   "metadata": {},
   "outputs": [
    {
     "name": "stderr",
     "output_type": "stream",
     "text": [
      "Found cached dataset parquet (/home/vamsi/.cache/huggingface/datasets/parquet/plain_text-b38df7ca980d7b55/0.0.0/2a3b91fbd88a2c90d1dbbb32b460cf621d31bd5b05b934492fdef7d8d6f236ec)\n"
     ]
    },
    {
     "data": {
      "application/vnd.jupyter.widget-view+json": {
       "model_id": "05caaf8aeade4b0cbc20bf0670a374e0",
       "version_major": 2,
       "version_minor": 0
      },
      "text/plain": [
       "Map:   0%|          | 0/100 [00:00<?, ? examples/s]"
      ]
     },
     "metadata": {},
     "output_type": "display_data"
    },
    {
     "ename": "RuntimeError",
     "evalue": "Expected all tensors to be on the same device, but found at least two devices, cpu and cuda:0! (when checking argument for argument index in method wrapper_CUDA__index_select)",
     "output_type": "error",
     "traceback": [
      "\u001b[0;31m---------------------------------------------------------------------------\u001b[0m",
      "\u001b[0;31mRuntimeError\u001b[0m                              Traceback (most recent call last)",
      "Cell \u001b[0;32mIn[78], line 20\u001b[0m\n\u001b[1;32m     16\u001b[0m     \u001b[38;5;28;01mreturn\u001b[39;00m mean_pooling(model_output, encoded_input[\u001b[38;5;124m\"\u001b[39m\u001b[38;5;124mattention_mask\u001b[39m\u001b[38;5;124m\"\u001b[39m])\n\u001b[1;32m     18\u001b[0m \u001b[38;5;66;03m# What is going on here ?\u001b[39;00m\n\u001b[1;32m     19\u001b[0m \u001b[38;5;66;03m# What is x ?\u001b[39;00m\n\u001b[0;32m---> 20\u001b[0m squad_with_embeddings \u001b[38;5;241m=\u001b[39m \u001b[43msquad\u001b[49m\u001b[38;5;241;43m.\u001b[39;49m\u001b[43mmap\u001b[49m\u001b[43m(\u001b[49m\n\u001b[1;32m     21\u001b[0m \u001b[43m    \u001b[49m\u001b[38;5;28;43;01mlambda\u001b[39;49;00m\u001b[43m \u001b[49m\u001b[43mx\u001b[49m\u001b[43m:\u001b[49m\u001b[43m \u001b[49m\u001b[43m{\u001b[49m\u001b[38;5;124;43m\"\u001b[39;49m\u001b[38;5;124;43membeddings\u001b[39;49m\u001b[38;5;124;43m\"\u001b[39;49m\u001b[43m:\u001b[49m\u001b[43m \u001b[49m\u001b[43mget_embeddings\u001b[49m\u001b[43m(\u001b[49m\u001b[43mx\u001b[49m\u001b[43m[\u001b[49m\u001b[38;5;124;43m\"\u001b[39;49m\u001b[38;5;124;43mcontext\u001b[39;49m\u001b[38;5;124;43m\"\u001b[39;49m\u001b[43m]\u001b[49m\u001b[43m)\u001b[49m\u001b[38;5;241;43m.\u001b[39;49m\u001b[43mdetach\u001b[49m\u001b[43m(\u001b[49m\u001b[43m)\u001b[49m\u001b[38;5;241;43m.\u001b[39;49m\u001b[43mcpu\u001b[49m\u001b[43m(\u001b[49m\u001b[43m)\u001b[49m\u001b[38;5;241;43m.\u001b[39;49m\u001b[43mnumpy\u001b[49m\u001b[43m(\u001b[49m\u001b[43m)\u001b[49m\u001b[43m[\u001b[49m\u001b[38;5;241;43m0\u001b[39;49m\u001b[43m]\u001b[49m\u001b[43m}\u001b[49m\n\u001b[1;32m     22\u001b[0m \u001b[43m)\u001b[49m\n\u001b[1;32m     24\u001b[0m \u001b[38;5;66;03m# This special \"faiss\" thing allows for quick searches. Need details.\u001b[39;00m\n\u001b[1;32m     25\u001b[0m \u001b[38;5;66;03m#squad_with_embeddings.add_faiss_index(column = \"embeddings\")\u001b[39;00m\n\u001b[1;32m     26\u001b[0m \n\u001b[0;32m   (...)\u001b[0m\n\u001b[1;32m     34\u001b[0m     \u001b[38;5;66;03m#\"embeddings\", question_embedding, k=3\u001b[39;00m\n\u001b[1;32m     35\u001b[0m \u001b[38;5;66;03m#)\u001b[39;00m\n",
      "File \u001b[0;32m~/mambaforge/envs/ml/lib/python3.10/site-packages/datasets/arrow_dataset.py:578\u001b[0m, in \u001b[0;36mtransmit_tasks.<locals>.wrapper\u001b[0;34m(*args, **kwargs)\u001b[0m\n\u001b[1;32m    576\u001b[0m     \u001b[38;5;28mself\u001b[39m: \u001b[38;5;124m\"\u001b[39m\u001b[38;5;124mDataset\u001b[39m\u001b[38;5;124m\"\u001b[39m \u001b[38;5;241m=\u001b[39m kwargs\u001b[38;5;241m.\u001b[39mpop(\u001b[38;5;124m\"\u001b[39m\u001b[38;5;124mself\u001b[39m\u001b[38;5;124m\"\u001b[39m)\n\u001b[1;32m    577\u001b[0m \u001b[38;5;66;03m# apply actual function\u001b[39;00m\n\u001b[0;32m--> 578\u001b[0m out: Union[\u001b[38;5;124m\"\u001b[39m\u001b[38;5;124mDataset\u001b[39m\u001b[38;5;124m\"\u001b[39m, \u001b[38;5;124m\"\u001b[39m\u001b[38;5;124mDatasetDict\u001b[39m\u001b[38;5;124m\"\u001b[39m] \u001b[38;5;241m=\u001b[39m \u001b[43mfunc\u001b[49m\u001b[43m(\u001b[49m\u001b[38;5;28;43mself\u001b[39;49m\u001b[43m,\u001b[49m\u001b[43m \u001b[49m\u001b[38;5;241;43m*\u001b[39;49m\u001b[43margs\u001b[49m\u001b[43m,\u001b[49m\u001b[43m \u001b[49m\u001b[38;5;241;43m*\u001b[39;49m\u001b[38;5;241;43m*\u001b[39;49m\u001b[43mkwargs\u001b[49m\u001b[43m)\u001b[49m\n\u001b[1;32m    579\u001b[0m datasets: List[\u001b[38;5;124m\"\u001b[39m\u001b[38;5;124mDataset\u001b[39m\u001b[38;5;124m\"\u001b[39m] \u001b[38;5;241m=\u001b[39m \u001b[38;5;28mlist\u001b[39m(out\u001b[38;5;241m.\u001b[39mvalues()) \u001b[38;5;28;01mif\u001b[39;00m \u001b[38;5;28misinstance\u001b[39m(out, \u001b[38;5;28mdict\u001b[39m) \u001b[38;5;28;01melse\u001b[39;00m [out]\n\u001b[1;32m    580\u001b[0m \u001b[38;5;28;01mfor\u001b[39;00m dataset \u001b[38;5;129;01min\u001b[39;00m datasets:\n\u001b[1;32m    581\u001b[0m     \u001b[38;5;66;03m# Remove task templates if a column mapping of the template is no longer valid\u001b[39;00m\n",
      "File \u001b[0;32m~/mambaforge/envs/ml/lib/python3.10/site-packages/datasets/arrow_dataset.py:543\u001b[0m, in \u001b[0;36mtransmit_format.<locals>.wrapper\u001b[0;34m(*args, **kwargs)\u001b[0m\n\u001b[1;32m    536\u001b[0m self_format \u001b[38;5;241m=\u001b[39m {\n\u001b[1;32m    537\u001b[0m     \u001b[38;5;124m\"\u001b[39m\u001b[38;5;124mtype\u001b[39m\u001b[38;5;124m\"\u001b[39m: \u001b[38;5;28mself\u001b[39m\u001b[38;5;241m.\u001b[39m_format_type,\n\u001b[1;32m    538\u001b[0m     \u001b[38;5;124m\"\u001b[39m\u001b[38;5;124mformat_kwargs\u001b[39m\u001b[38;5;124m\"\u001b[39m: \u001b[38;5;28mself\u001b[39m\u001b[38;5;241m.\u001b[39m_format_kwargs,\n\u001b[1;32m    539\u001b[0m     \u001b[38;5;124m\"\u001b[39m\u001b[38;5;124mcolumns\u001b[39m\u001b[38;5;124m\"\u001b[39m: \u001b[38;5;28mself\u001b[39m\u001b[38;5;241m.\u001b[39m_format_columns,\n\u001b[1;32m    540\u001b[0m     \u001b[38;5;124m\"\u001b[39m\u001b[38;5;124moutput_all_columns\u001b[39m\u001b[38;5;124m\"\u001b[39m: \u001b[38;5;28mself\u001b[39m\u001b[38;5;241m.\u001b[39m_output_all_columns,\n\u001b[1;32m    541\u001b[0m }\n\u001b[1;32m    542\u001b[0m \u001b[38;5;66;03m# apply actual function\u001b[39;00m\n\u001b[0;32m--> 543\u001b[0m out: Union[\u001b[38;5;124m\"\u001b[39m\u001b[38;5;124mDataset\u001b[39m\u001b[38;5;124m\"\u001b[39m, \u001b[38;5;124m\"\u001b[39m\u001b[38;5;124mDatasetDict\u001b[39m\u001b[38;5;124m\"\u001b[39m] \u001b[38;5;241m=\u001b[39m \u001b[43mfunc\u001b[49m\u001b[43m(\u001b[49m\u001b[38;5;28;43mself\u001b[39;49m\u001b[43m,\u001b[49m\u001b[43m \u001b[49m\u001b[38;5;241;43m*\u001b[39;49m\u001b[43margs\u001b[49m\u001b[43m,\u001b[49m\u001b[43m \u001b[49m\u001b[38;5;241;43m*\u001b[39;49m\u001b[38;5;241;43m*\u001b[39;49m\u001b[43mkwargs\u001b[49m\u001b[43m)\u001b[49m\n\u001b[1;32m    544\u001b[0m datasets: List[\u001b[38;5;124m\"\u001b[39m\u001b[38;5;124mDataset\u001b[39m\u001b[38;5;124m\"\u001b[39m] \u001b[38;5;241m=\u001b[39m \u001b[38;5;28mlist\u001b[39m(out\u001b[38;5;241m.\u001b[39mvalues()) \u001b[38;5;28;01mif\u001b[39;00m \u001b[38;5;28misinstance\u001b[39m(out, \u001b[38;5;28mdict\u001b[39m) \u001b[38;5;28;01melse\u001b[39;00m [out]\n\u001b[1;32m    545\u001b[0m \u001b[38;5;66;03m# re-apply format to the output\u001b[39;00m\n",
      "File \u001b[0;32m~/mambaforge/envs/ml/lib/python3.10/site-packages/datasets/arrow_dataset.py:3073\u001b[0m, in \u001b[0;36mDataset.map\u001b[0;34m(self, function, with_indices, with_rank, input_columns, batched, batch_size, drop_last_batch, remove_columns, keep_in_memory, load_from_cache_file, cache_file_name, writer_batch_size, features, disable_nullable, fn_kwargs, num_proc, suffix_template, new_fingerprint, desc)\u001b[0m\n\u001b[1;32m   3065\u001b[0m \u001b[38;5;28;01mif\u001b[39;00m transformed_dataset \u001b[38;5;129;01mis\u001b[39;00m \u001b[38;5;28;01mNone\u001b[39;00m:\n\u001b[1;32m   3066\u001b[0m     \u001b[38;5;28;01mwith\u001b[39;00m logging\u001b[38;5;241m.\u001b[39mtqdm(\n\u001b[1;32m   3067\u001b[0m         disable\u001b[38;5;241m=\u001b[39m\u001b[38;5;129;01mnot\u001b[39;00m logging\u001b[38;5;241m.\u001b[39mis_progress_bar_enabled(),\n\u001b[1;32m   3068\u001b[0m         unit\u001b[38;5;241m=\u001b[39m\u001b[38;5;124m\"\u001b[39m\u001b[38;5;124m examples\u001b[39m\u001b[38;5;124m\"\u001b[39m,\n\u001b[0;32m   (...)\u001b[0m\n\u001b[1;32m   3071\u001b[0m         desc\u001b[38;5;241m=\u001b[39mdesc \u001b[38;5;129;01mor\u001b[39;00m \u001b[38;5;124m\"\u001b[39m\u001b[38;5;124mMap\u001b[39m\u001b[38;5;124m\"\u001b[39m,\n\u001b[1;32m   3072\u001b[0m     ) \u001b[38;5;28;01mas\u001b[39;00m pbar:\n\u001b[0;32m-> 3073\u001b[0m         \u001b[38;5;28;01mfor\u001b[39;00m rank, done, content \u001b[38;5;129;01min\u001b[39;00m Dataset\u001b[38;5;241m.\u001b[39m_map_single(\u001b[38;5;241m*\u001b[39m\u001b[38;5;241m*\u001b[39mdataset_kwargs):\n\u001b[1;32m   3074\u001b[0m             \u001b[38;5;28;01mif\u001b[39;00m done:\n\u001b[1;32m   3075\u001b[0m                 shards_done \u001b[38;5;241m+\u001b[39m\u001b[38;5;241m=\u001b[39m \u001b[38;5;241m1\u001b[39m\n",
      "File \u001b[0;32m~/mambaforge/envs/ml/lib/python3.10/site-packages/datasets/arrow_dataset.py:3427\u001b[0m, in \u001b[0;36mDataset._map_single\u001b[0;34m(shard, function, with_indices, with_rank, input_columns, batched, batch_size, drop_last_batch, remove_columns, keep_in_memory, cache_file_name, writer_batch_size, features, disable_nullable, fn_kwargs, new_fingerprint, rank, offset)\u001b[0m\n\u001b[1;32m   3425\u001b[0m _time \u001b[38;5;241m=\u001b[39m time\u001b[38;5;241m.\u001b[39mtime()\n\u001b[1;32m   3426\u001b[0m \u001b[38;5;28;01mfor\u001b[39;00m i, example \u001b[38;5;129;01min\u001b[39;00m shard_iterable:\n\u001b[0;32m-> 3427\u001b[0m     example \u001b[38;5;241m=\u001b[39m \u001b[43mapply_function_on_filtered_inputs\u001b[49m\u001b[43m(\u001b[49m\u001b[43mexample\u001b[49m\u001b[43m,\u001b[49m\u001b[43m \u001b[49m\u001b[43mi\u001b[49m\u001b[43m,\u001b[49m\u001b[43m \u001b[49m\u001b[43moffset\u001b[49m\u001b[38;5;241;43m=\u001b[39;49m\u001b[43moffset\u001b[49m\u001b[43m)\u001b[49m\n\u001b[1;32m   3428\u001b[0m     \u001b[38;5;28;01mif\u001b[39;00m update_data:\n\u001b[1;32m   3429\u001b[0m         \u001b[38;5;28;01mif\u001b[39;00m i \u001b[38;5;241m==\u001b[39m \u001b[38;5;241m0\u001b[39m:\n",
      "File \u001b[0;32m~/mambaforge/envs/ml/lib/python3.10/site-packages/datasets/arrow_dataset.py:3330\u001b[0m, in \u001b[0;36mDataset._map_single.<locals>.apply_function_on_filtered_inputs\u001b[0;34m(pa_inputs, indices, check_same_num_examples, offset)\u001b[0m\n\u001b[1;32m   3328\u001b[0m \u001b[38;5;28;01mif\u001b[39;00m with_rank:\n\u001b[1;32m   3329\u001b[0m     additional_args \u001b[38;5;241m+\u001b[39m\u001b[38;5;241m=\u001b[39m (rank,)\n\u001b[0;32m-> 3330\u001b[0m processed_inputs \u001b[38;5;241m=\u001b[39m \u001b[43mfunction\u001b[49m\u001b[43m(\u001b[49m\u001b[38;5;241;43m*\u001b[39;49m\u001b[43mfn_args\u001b[49m\u001b[43m,\u001b[49m\u001b[43m \u001b[49m\u001b[38;5;241;43m*\u001b[39;49m\u001b[43madditional_args\u001b[49m\u001b[43m,\u001b[49m\u001b[43m \u001b[49m\u001b[38;5;241;43m*\u001b[39;49m\u001b[38;5;241;43m*\u001b[39;49m\u001b[43mfn_kwargs\u001b[49m\u001b[43m)\u001b[49m\n\u001b[1;32m   3331\u001b[0m \u001b[38;5;28;01mif\u001b[39;00m \u001b[38;5;28misinstance\u001b[39m(processed_inputs, LazyDict):\n\u001b[1;32m   3332\u001b[0m     processed_inputs \u001b[38;5;241m=\u001b[39m {\n\u001b[1;32m   3333\u001b[0m         k: v \u001b[38;5;28;01mfor\u001b[39;00m k, v \u001b[38;5;129;01min\u001b[39;00m processed_inputs\u001b[38;5;241m.\u001b[39mdata\u001b[38;5;241m.\u001b[39mitems() \u001b[38;5;28;01mif\u001b[39;00m k \u001b[38;5;129;01mnot\u001b[39;00m \u001b[38;5;129;01min\u001b[39;00m processed_inputs\u001b[38;5;241m.\u001b[39mkeys_to_format\n\u001b[1;32m   3334\u001b[0m     }\n",
      "Cell \u001b[0;32mIn[78], line 21\u001b[0m, in \u001b[0;36m<lambda>\u001b[0;34m(x)\u001b[0m\n\u001b[1;32m     16\u001b[0m     \u001b[38;5;28;01mreturn\u001b[39;00m mean_pooling(model_output, encoded_input[\u001b[38;5;124m\"\u001b[39m\u001b[38;5;124mattention_mask\u001b[39m\u001b[38;5;124m\"\u001b[39m])\n\u001b[1;32m     18\u001b[0m \u001b[38;5;66;03m# What is going on here ?\u001b[39;00m\n\u001b[1;32m     19\u001b[0m \u001b[38;5;66;03m# What is x ?\u001b[39;00m\n\u001b[1;32m     20\u001b[0m squad_with_embeddings \u001b[38;5;241m=\u001b[39m squad\u001b[38;5;241m.\u001b[39mmap(\n\u001b[0;32m---> 21\u001b[0m     \u001b[38;5;28;01mlambda\u001b[39;00m x: {\u001b[38;5;124m\"\u001b[39m\u001b[38;5;124membeddings\u001b[39m\u001b[38;5;124m\"\u001b[39m: \u001b[43mget_embeddings\u001b[49m\u001b[43m(\u001b[49m\u001b[43mx\u001b[49m\u001b[43m[\u001b[49m\u001b[38;5;124;43m\"\u001b[39;49m\u001b[38;5;124;43mcontext\u001b[39;49m\u001b[38;5;124;43m\"\u001b[39;49m\u001b[43m]\u001b[49m\u001b[43m)\u001b[49m\u001b[38;5;241m.\u001b[39mdetach()\u001b[38;5;241m.\u001b[39mcpu()\u001b[38;5;241m.\u001b[39mnumpy()[\u001b[38;5;241m0\u001b[39m]}\n\u001b[1;32m     22\u001b[0m )\n\u001b[1;32m     24\u001b[0m \u001b[38;5;66;03m# This special \"faiss\" thing allows for quick searches. Need details.\u001b[39;00m\n\u001b[1;32m     25\u001b[0m \u001b[38;5;66;03m#squad_with_embeddings.add_faiss_index(column = \"embeddings\")\u001b[39;00m\n\u001b[1;32m     26\u001b[0m \n\u001b[0;32m   (...)\u001b[0m\n\u001b[1;32m     34\u001b[0m     \u001b[38;5;66;03m#\"embeddings\", question_embedding, k=3\u001b[39;00m\n\u001b[1;32m     35\u001b[0m \u001b[38;5;66;03m#)\u001b[39;00m\n",
      "Cell \u001b[0;32mIn[78], line 14\u001b[0m, in \u001b[0;36mget_embeddings\u001b[0;34m(text_list)\u001b[0m\n\u001b[1;32m     11\u001b[0m encoded_input \u001b[38;5;241m=\u001b[39m {k: v\u001b[38;5;241m.\u001b[39mto(\u001b[38;5;124m\"\u001b[39m\u001b[38;5;124mcuda\u001b[39m\u001b[38;5;124m\"\u001b[39m) \u001b[38;5;28;01mfor\u001b[39;00m k,v \u001b[38;5;129;01min\u001b[39;00m encoded_input\u001b[38;5;241m.\u001b[39mitems()}\n\u001b[1;32m     13\u001b[0m \u001b[38;5;28;01mwith\u001b[39;00m torch\u001b[38;5;241m.\u001b[39mno_grad():\n\u001b[0;32m---> 14\u001b[0m     model_output \u001b[38;5;241m=\u001b[39m \u001b[43mmodel\u001b[49m\u001b[43m(\u001b[49m\u001b[38;5;241;43m*\u001b[39;49m\u001b[38;5;241;43m*\u001b[39;49m\u001b[43mencoded_input\u001b[49m\u001b[43m)\u001b[49m\n\u001b[1;32m     16\u001b[0m \u001b[38;5;28;01mreturn\u001b[39;00m mean_pooling(model_output, encoded_input[\u001b[38;5;124m\"\u001b[39m\u001b[38;5;124mattention_mask\u001b[39m\u001b[38;5;124m\"\u001b[39m])\n",
      "File \u001b[0;32m~/mambaforge/envs/ml/lib/python3.10/site-packages/torch/nn/modules/module.py:1501\u001b[0m, in \u001b[0;36mModule._call_impl\u001b[0;34m(self, *args, **kwargs)\u001b[0m\n\u001b[1;32m   1496\u001b[0m \u001b[38;5;66;03m# If we don't have any hooks, we want to skip the rest of the logic in\u001b[39;00m\n\u001b[1;32m   1497\u001b[0m \u001b[38;5;66;03m# this function, and just call forward.\u001b[39;00m\n\u001b[1;32m   1498\u001b[0m \u001b[38;5;28;01mif\u001b[39;00m \u001b[38;5;129;01mnot\u001b[39;00m (\u001b[38;5;28mself\u001b[39m\u001b[38;5;241m.\u001b[39m_backward_hooks \u001b[38;5;129;01mor\u001b[39;00m \u001b[38;5;28mself\u001b[39m\u001b[38;5;241m.\u001b[39m_backward_pre_hooks \u001b[38;5;129;01mor\u001b[39;00m \u001b[38;5;28mself\u001b[39m\u001b[38;5;241m.\u001b[39m_forward_hooks \u001b[38;5;129;01mor\u001b[39;00m \u001b[38;5;28mself\u001b[39m\u001b[38;5;241m.\u001b[39m_forward_pre_hooks\n\u001b[1;32m   1499\u001b[0m         \u001b[38;5;129;01mor\u001b[39;00m _global_backward_pre_hooks \u001b[38;5;129;01mor\u001b[39;00m _global_backward_hooks\n\u001b[1;32m   1500\u001b[0m         \u001b[38;5;129;01mor\u001b[39;00m _global_forward_hooks \u001b[38;5;129;01mor\u001b[39;00m _global_forward_pre_hooks):\n\u001b[0;32m-> 1501\u001b[0m     \u001b[38;5;28;01mreturn\u001b[39;00m \u001b[43mforward_call\u001b[49m\u001b[43m(\u001b[49m\u001b[38;5;241;43m*\u001b[39;49m\u001b[43margs\u001b[49m\u001b[43m,\u001b[49m\u001b[43m \u001b[49m\u001b[38;5;241;43m*\u001b[39;49m\u001b[38;5;241;43m*\u001b[39;49m\u001b[43mkwargs\u001b[49m\u001b[43m)\u001b[49m\n\u001b[1;32m   1502\u001b[0m \u001b[38;5;66;03m# Do not call functions when jit is used\u001b[39;00m\n\u001b[1;32m   1503\u001b[0m full_backward_hooks, non_full_backward_hooks \u001b[38;5;241m=\u001b[39m [], []\n",
      "File \u001b[0;32m~/mambaforge/envs/ml/lib/python3.10/site-packages/transformers/models/bert/modeling_bert.py:1013\u001b[0m, in \u001b[0;36mBertModel.forward\u001b[0;34m(self, input_ids, attention_mask, token_type_ids, position_ids, head_mask, inputs_embeds, encoder_hidden_states, encoder_attention_mask, past_key_values, use_cache, output_attentions, output_hidden_states, return_dict)\u001b[0m\n\u001b[1;32m   1006\u001b[0m \u001b[38;5;66;03m# Prepare head mask if needed\u001b[39;00m\n\u001b[1;32m   1007\u001b[0m \u001b[38;5;66;03m# 1.0 in head_mask indicate we keep the head\u001b[39;00m\n\u001b[1;32m   1008\u001b[0m \u001b[38;5;66;03m# attention_probs has shape bsz x n_heads x N x N\u001b[39;00m\n\u001b[1;32m   1009\u001b[0m \u001b[38;5;66;03m# input head_mask has shape [num_heads] or [num_hidden_layers x num_heads]\u001b[39;00m\n\u001b[1;32m   1010\u001b[0m \u001b[38;5;66;03m# and head_mask is converted to shape [num_hidden_layers x batch x num_heads x seq_length x seq_length]\u001b[39;00m\n\u001b[1;32m   1011\u001b[0m head_mask \u001b[38;5;241m=\u001b[39m \u001b[38;5;28mself\u001b[39m\u001b[38;5;241m.\u001b[39mget_head_mask(head_mask, \u001b[38;5;28mself\u001b[39m\u001b[38;5;241m.\u001b[39mconfig\u001b[38;5;241m.\u001b[39mnum_hidden_layers)\n\u001b[0;32m-> 1013\u001b[0m embedding_output \u001b[38;5;241m=\u001b[39m \u001b[38;5;28;43mself\u001b[39;49m\u001b[38;5;241;43m.\u001b[39;49m\u001b[43membeddings\u001b[49m\u001b[43m(\u001b[49m\n\u001b[1;32m   1014\u001b[0m \u001b[43m    \u001b[49m\u001b[43minput_ids\u001b[49m\u001b[38;5;241;43m=\u001b[39;49m\u001b[43minput_ids\u001b[49m\u001b[43m,\u001b[49m\n\u001b[1;32m   1015\u001b[0m \u001b[43m    \u001b[49m\u001b[43mposition_ids\u001b[49m\u001b[38;5;241;43m=\u001b[39;49m\u001b[43mposition_ids\u001b[49m\u001b[43m,\u001b[49m\n\u001b[1;32m   1016\u001b[0m \u001b[43m    \u001b[49m\u001b[43mtoken_type_ids\u001b[49m\u001b[38;5;241;43m=\u001b[39;49m\u001b[43mtoken_type_ids\u001b[49m\u001b[43m,\u001b[49m\n\u001b[1;32m   1017\u001b[0m \u001b[43m    \u001b[49m\u001b[43minputs_embeds\u001b[49m\u001b[38;5;241;43m=\u001b[39;49m\u001b[43minputs_embeds\u001b[49m\u001b[43m,\u001b[49m\n\u001b[1;32m   1018\u001b[0m \u001b[43m    \u001b[49m\u001b[43mpast_key_values_length\u001b[49m\u001b[38;5;241;43m=\u001b[39;49m\u001b[43mpast_key_values_length\u001b[49m\u001b[43m,\u001b[49m\n\u001b[1;32m   1019\u001b[0m \u001b[43m\u001b[49m\u001b[43m)\u001b[49m\n\u001b[1;32m   1020\u001b[0m encoder_outputs \u001b[38;5;241m=\u001b[39m \u001b[38;5;28mself\u001b[39m\u001b[38;5;241m.\u001b[39mencoder(\n\u001b[1;32m   1021\u001b[0m     embedding_output,\n\u001b[1;32m   1022\u001b[0m     attention_mask\u001b[38;5;241m=\u001b[39mextended_attention_mask,\n\u001b[0;32m   (...)\u001b[0m\n\u001b[1;32m   1030\u001b[0m     return_dict\u001b[38;5;241m=\u001b[39mreturn_dict,\n\u001b[1;32m   1031\u001b[0m )\n\u001b[1;32m   1032\u001b[0m sequence_output \u001b[38;5;241m=\u001b[39m encoder_outputs[\u001b[38;5;241m0\u001b[39m]\n",
      "File \u001b[0;32m~/mambaforge/envs/ml/lib/python3.10/site-packages/torch/nn/modules/module.py:1501\u001b[0m, in \u001b[0;36mModule._call_impl\u001b[0;34m(self, *args, **kwargs)\u001b[0m\n\u001b[1;32m   1496\u001b[0m \u001b[38;5;66;03m# If we don't have any hooks, we want to skip the rest of the logic in\u001b[39;00m\n\u001b[1;32m   1497\u001b[0m \u001b[38;5;66;03m# this function, and just call forward.\u001b[39;00m\n\u001b[1;32m   1498\u001b[0m \u001b[38;5;28;01mif\u001b[39;00m \u001b[38;5;129;01mnot\u001b[39;00m (\u001b[38;5;28mself\u001b[39m\u001b[38;5;241m.\u001b[39m_backward_hooks \u001b[38;5;129;01mor\u001b[39;00m \u001b[38;5;28mself\u001b[39m\u001b[38;5;241m.\u001b[39m_backward_pre_hooks \u001b[38;5;129;01mor\u001b[39;00m \u001b[38;5;28mself\u001b[39m\u001b[38;5;241m.\u001b[39m_forward_hooks \u001b[38;5;129;01mor\u001b[39;00m \u001b[38;5;28mself\u001b[39m\u001b[38;5;241m.\u001b[39m_forward_pre_hooks\n\u001b[1;32m   1499\u001b[0m         \u001b[38;5;129;01mor\u001b[39;00m _global_backward_pre_hooks \u001b[38;5;129;01mor\u001b[39;00m _global_backward_hooks\n\u001b[1;32m   1500\u001b[0m         \u001b[38;5;129;01mor\u001b[39;00m _global_forward_hooks \u001b[38;5;129;01mor\u001b[39;00m _global_forward_pre_hooks):\n\u001b[0;32m-> 1501\u001b[0m     \u001b[38;5;28;01mreturn\u001b[39;00m \u001b[43mforward_call\u001b[49m\u001b[43m(\u001b[49m\u001b[38;5;241;43m*\u001b[39;49m\u001b[43margs\u001b[49m\u001b[43m,\u001b[49m\u001b[43m \u001b[49m\u001b[38;5;241;43m*\u001b[39;49m\u001b[38;5;241;43m*\u001b[39;49m\u001b[43mkwargs\u001b[49m\u001b[43m)\u001b[49m\n\u001b[1;32m   1502\u001b[0m \u001b[38;5;66;03m# Do not call functions when jit is used\u001b[39;00m\n\u001b[1;32m   1503\u001b[0m full_backward_hooks, non_full_backward_hooks \u001b[38;5;241m=\u001b[39m [], []\n",
      "File \u001b[0;32m~/mambaforge/envs/ml/lib/python3.10/site-packages/transformers/models/bert/modeling_bert.py:230\u001b[0m, in \u001b[0;36mBertEmbeddings.forward\u001b[0;34m(self, input_ids, token_type_ids, position_ids, inputs_embeds, past_key_values_length)\u001b[0m\n\u001b[1;32m    227\u001b[0m         token_type_ids \u001b[38;5;241m=\u001b[39m torch\u001b[38;5;241m.\u001b[39mzeros(input_shape, dtype\u001b[38;5;241m=\u001b[39mtorch\u001b[38;5;241m.\u001b[39mlong, device\u001b[38;5;241m=\u001b[39m\u001b[38;5;28mself\u001b[39m\u001b[38;5;241m.\u001b[39mposition_ids\u001b[38;5;241m.\u001b[39mdevice)\n\u001b[1;32m    229\u001b[0m \u001b[38;5;28;01mif\u001b[39;00m inputs_embeds \u001b[38;5;129;01mis\u001b[39;00m \u001b[38;5;28;01mNone\u001b[39;00m:\n\u001b[0;32m--> 230\u001b[0m     inputs_embeds \u001b[38;5;241m=\u001b[39m \u001b[38;5;28;43mself\u001b[39;49m\u001b[38;5;241;43m.\u001b[39;49m\u001b[43mword_embeddings\u001b[49m\u001b[43m(\u001b[49m\u001b[43minput_ids\u001b[49m\u001b[43m)\u001b[49m\n\u001b[1;32m    231\u001b[0m token_type_embeddings \u001b[38;5;241m=\u001b[39m \u001b[38;5;28mself\u001b[39m\u001b[38;5;241m.\u001b[39mtoken_type_embeddings(token_type_ids)\n\u001b[1;32m    233\u001b[0m embeddings \u001b[38;5;241m=\u001b[39m inputs_embeds \u001b[38;5;241m+\u001b[39m token_type_embeddings\n",
      "File \u001b[0;32m~/mambaforge/envs/ml/lib/python3.10/site-packages/torch/nn/modules/module.py:1501\u001b[0m, in \u001b[0;36mModule._call_impl\u001b[0;34m(self, *args, **kwargs)\u001b[0m\n\u001b[1;32m   1496\u001b[0m \u001b[38;5;66;03m# If we don't have any hooks, we want to skip the rest of the logic in\u001b[39;00m\n\u001b[1;32m   1497\u001b[0m \u001b[38;5;66;03m# this function, and just call forward.\u001b[39;00m\n\u001b[1;32m   1498\u001b[0m \u001b[38;5;28;01mif\u001b[39;00m \u001b[38;5;129;01mnot\u001b[39;00m (\u001b[38;5;28mself\u001b[39m\u001b[38;5;241m.\u001b[39m_backward_hooks \u001b[38;5;129;01mor\u001b[39;00m \u001b[38;5;28mself\u001b[39m\u001b[38;5;241m.\u001b[39m_backward_pre_hooks \u001b[38;5;129;01mor\u001b[39;00m \u001b[38;5;28mself\u001b[39m\u001b[38;5;241m.\u001b[39m_forward_hooks \u001b[38;5;129;01mor\u001b[39;00m \u001b[38;5;28mself\u001b[39m\u001b[38;5;241m.\u001b[39m_forward_pre_hooks\n\u001b[1;32m   1499\u001b[0m         \u001b[38;5;129;01mor\u001b[39;00m _global_backward_pre_hooks \u001b[38;5;129;01mor\u001b[39;00m _global_backward_hooks\n\u001b[1;32m   1500\u001b[0m         \u001b[38;5;129;01mor\u001b[39;00m _global_forward_hooks \u001b[38;5;129;01mor\u001b[39;00m _global_forward_pre_hooks):\n\u001b[0;32m-> 1501\u001b[0m     \u001b[38;5;28;01mreturn\u001b[39;00m \u001b[43mforward_call\u001b[49m\u001b[43m(\u001b[49m\u001b[38;5;241;43m*\u001b[39;49m\u001b[43margs\u001b[49m\u001b[43m,\u001b[49m\u001b[43m \u001b[49m\u001b[38;5;241;43m*\u001b[39;49m\u001b[38;5;241;43m*\u001b[39;49m\u001b[43mkwargs\u001b[49m\u001b[43m)\u001b[49m\n\u001b[1;32m   1502\u001b[0m \u001b[38;5;66;03m# Do not call functions when jit is used\u001b[39;00m\n\u001b[1;32m   1503\u001b[0m full_backward_hooks, non_full_backward_hooks \u001b[38;5;241m=\u001b[39m [], []\n",
      "File \u001b[0;32m~/mambaforge/envs/ml/lib/python3.10/site-packages/torch/nn/modules/sparse.py:162\u001b[0m, in \u001b[0;36mEmbedding.forward\u001b[0;34m(self, input)\u001b[0m\n\u001b[1;32m    161\u001b[0m \u001b[38;5;28;01mdef\u001b[39;00m \u001b[38;5;21mforward\u001b[39m(\u001b[38;5;28mself\u001b[39m, \u001b[38;5;28minput\u001b[39m: Tensor) \u001b[38;5;241m-\u001b[39m\u001b[38;5;241m>\u001b[39m Tensor:\n\u001b[0;32m--> 162\u001b[0m     \u001b[38;5;28;01mreturn\u001b[39;00m \u001b[43mF\u001b[49m\u001b[38;5;241;43m.\u001b[39;49m\u001b[43membedding\u001b[49m\u001b[43m(\u001b[49m\n\u001b[1;32m    163\u001b[0m \u001b[43m        \u001b[49m\u001b[38;5;28;43minput\u001b[39;49m\u001b[43m,\u001b[49m\u001b[43m \u001b[49m\u001b[38;5;28;43mself\u001b[39;49m\u001b[38;5;241;43m.\u001b[39;49m\u001b[43mweight\u001b[49m\u001b[43m,\u001b[49m\u001b[43m \u001b[49m\u001b[38;5;28;43mself\u001b[39;49m\u001b[38;5;241;43m.\u001b[39;49m\u001b[43mpadding_idx\u001b[49m\u001b[43m,\u001b[49m\u001b[43m \u001b[49m\u001b[38;5;28;43mself\u001b[39;49m\u001b[38;5;241;43m.\u001b[39;49m\u001b[43mmax_norm\u001b[49m\u001b[43m,\u001b[49m\n\u001b[1;32m    164\u001b[0m \u001b[43m        \u001b[49m\u001b[38;5;28;43mself\u001b[39;49m\u001b[38;5;241;43m.\u001b[39;49m\u001b[43mnorm_type\u001b[49m\u001b[43m,\u001b[49m\u001b[43m \u001b[49m\u001b[38;5;28;43mself\u001b[39;49m\u001b[38;5;241;43m.\u001b[39;49m\u001b[43mscale_grad_by_freq\u001b[49m\u001b[43m,\u001b[49m\u001b[43m \u001b[49m\u001b[38;5;28;43mself\u001b[39;49m\u001b[38;5;241;43m.\u001b[39;49m\u001b[43msparse\u001b[49m\u001b[43m)\u001b[49m\n",
      "File \u001b[0;32m~/mambaforge/envs/ml/lib/python3.10/site-packages/torch/nn/functional.py:2210\u001b[0m, in \u001b[0;36membedding\u001b[0;34m(input, weight, padding_idx, max_norm, norm_type, scale_grad_by_freq, sparse)\u001b[0m\n\u001b[1;32m   2204\u001b[0m     \u001b[38;5;66;03m# Note [embedding_renorm set_grad_enabled]\u001b[39;00m\n\u001b[1;32m   2205\u001b[0m     \u001b[38;5;66;03m# XXX: equivalent to\u001b[39;00m\n\u001b[1;32m   2206\u001b[0m     \u001b[38;5;66;03m# with torch.no_grad():\u001b[39;00m\n\u001b[1;32m   2207\u001b[0m     \u001b[38;5;66;03m#   torch.embedding_renorm_\u001b[39;00m\n\u001b[1;32m   2208\u001b[0m     \u001b[38;5;66;03m# remove once script supports set_grad_enabled\u001b[39;00m\n\u001b[1;32m   2209\u001b[0m     _no_grad_embedding_renorm_(weight, \u001b[38;5;28minput\u001b[39m, max_norm, norm_type)\n\u001b[0;32m-> 2210\u001b[0m \u001b[38;5;28;01mreturn\u001b[39;00m \u001b[43mtorch\u001b[49m\u001b[38;5;241;43m.\u001b[39;49m\u001b[43membedding\u001b[49m\u001b[43m(\u001b[49m\u001b[43mweight\u001b[49m\u001b[43m,\u001b[49m\u001b[43m \u001b[49m\u001b[38;5;28;43minput\u001b[39;49m\u001b[43m,\u001b[49m\u001b[43m \u001b[49m\u001b[43mpadding_idx\u001b[49m\u001b[43m,\u001b[49m\u001b[43m \u001b[49m\u001b[43mscale_grad_by_freq\u001b[49m\u001b[43m,\u001b[49m\u001b[43m \u001b[49m\u001b[43msparse\u001b[49m\u001b[43m)\u001b[49m\n",
      "\u001b[0;31mRuntimeError\u001b[0m: Expected all tensors to be on the same device, but found at least two devices, cpu and cuda:0! (when checking argument for argument index in method wrapper_CUDA__index_select)"
     ]
    }
   ],
   "source": [
    "from datasets import load_dataset\n",
    "\n",
    "# Just load the last 100 from validation set.\n",
    "squad = load_dataset(\"squad\", split=\"validation[:100]\")\n",
    "\n",
    "def get_embeddings(text_list):\n",
    "    encoded_input = tokenizer(text_list, padding=True, truncation=True, return_tensors=\"pt\")    \n",
    "\n",
    "    # What does this do ? Move data into the GPU ?\n",
    "    # these are { \"attention_mask\" : tensor, etc..}\n",
    "    encoded_input = {k: v.to(\"cuda\") for k,v in encoded_input.items()}\n",
    "\n",
    "    with torch.no_grad():\n",
    "        model_output = model(**encoded_input)\n",
    "    \n",
    "    return mean_pooling(model_output, encoded_input[\"attention_mask\"])\n",
    "\n",
    "# What is going on here ?\n",
    "# What is x ?\n",
    "# This errors out with \"Expected all tensors on the same device but found at least two devices, cpu and cuda:0!\"\n",
    "# Deal with this later!!\n",
    "squad_with_embeddings = squad.map(\n",
    "    lambda x: {\"embeddings\": get_embeddings(x[\"context\"]).detach().cpu().numpy()[0]}\n",
    ")\n",
    "\n",
    "# This special \"faiss\" thing allows for quick searches. Need details.\n",
    "#squad_with_embeddings.add_faiss_index(column = \"embeddings\")\n",
    "\n",
    "#question = \"Who headlined the halftime show for Super Bowl 50?\"\n",
    "#question_embedding = get_embeddings([question]).detach().cpu().numpy()\n",
    "#question_embedding.shape()\n",
    "\n",
    "# Ok so this FAISS thing builds some vector db like index for \"embeddings\"\n",
    "# ahead of time instead of doing it on demand. Is it ?\n",
    "#scores, samples = squad_with_embeddings.get_nearest_examples(\n",
    "    #\"embeddings\", question_embedding, k=3\n",
    "#)"
   ]
  },
  {
   "cell_type": "markdown",
   "metadata": {},
   "source": [
    "\n",
    "\n",
    "# Deeper dive into BERT\n",
    "\n",
    "[Why BERT has 3 embedding layers and their implementation details](https://medium.com/@_init_/why-bert-has-3-embedding-layers-and-their-implementation-details-9c261108e28a). Following are my notes from this link.\n",
    "\n",
    "> Unlike other DL layers, BERT has three different embedding layers: Token, Segment and Position embedding. While exactly what makes an embedding layer is still not clear to me, token embedding seems clear enough. Focusing on the other two.\n",
    "![](./img/bert-embedding-layers.webp)\n",
    "\n",
    "## Token Embedding\n",
    "\n",
    " The role of this layer is to transform words into vector rep of fixed dimensions. For BERT this is a 768-dimensional vector.\n",
    "\n",
    " ![](./img/bert-token-embedding-inputs.webp)\n",
    "  - The embedding table is stored in the model (_generated during training_)\n",
    "  - BERT gets away with a vocabulary of 30,522 (_hence the dimension of the matrix_) with 768 long vector for each vocabulary token. _No info how the 30k size came about. Iteratively increasing it till they hit diminishing returns ?_\n",
    "  - Uses WordPiece tokenization.\n",
    "  - 👉 Each token gets converted to a 768 long vector\n",
    "\n",
    "\n",
    "## Segment Embedding\n",
    "\n",
    "Turns out to be far simpler than it sounds. Likely has some roots in efficient processing.\n",
    "\n",
    "![](./img/bert-segment-embedding-inputs.webp)\n",
    " - Simply to distinguish one segment from the other\n",
    " - Since one of BERT's objectives is NSP (_Next sentence prediction_), this is limited to `size(2, 768)`\n",
    " - If there are two inputs (NSP): First sentence gets index(0)'s vector and second gets index(1)'s vector\n",
    " - If there is only one input (MSM): The sentence gets index(0)'s vector\n",
    "\n",
    "## Position embedding\n",
    "\n",
    " Transformers do not generally encode the position of their input tokens. There is [some history](https://medium.com/@_init_/how-self-attention-with-relative-position-representations-works-28173b8c245a) here: the example below explains the motivation clearly though.\n",
    "\n",
    " When processing `I think, therefore I am`, _the first \"I\" should not have the same vector representation as the second \"I\"_. Wow, seems like such wishful, curious to see how they achieved this via a new embedding layer. Max sentence length constraint ? ✔️.\n",
    "\n",
    " BERT was designed to learn representations of sentences with a max-length of 512. This means that each token could have a different rep based on which position it falls in (_also contexted with attention layers I'd assume_). So I would say:`[30522 x 512 x 768]`.\n",
    "\n",
    " I would be wrong. Apprently this is a `(512 x 768)` sized matrix!! Ah, these are simply markers 💡\n",
    "  - 👉 **All** first words have a representation at index - 0. All second words at index-1 and so on for 512 possible words/tokens.\n",
    "  - Comparing \"Hello world\" and \"Hi There\". Both 'Hello' and 'Hi' will have the same representation since it simply encodes the index in the segment.\n",
    "\n",
    "## Combining the representation\n",
    "\n",
    "Given a sequence of length `n` (_tokens_), we will have three embeddings. _When using sentence pairs, change 1 to 2_\n",
    " - Token embeddings of size `(1, n, 768)` which simply embed the tokens\n",
    "   - _These are backed by a `(30522, 768)` matrix which maps each token_\n",
    " - Segment embeddings with shape `(1, n ,768)` which help BERT distinguish between paired input sequences\n",
    "   - _These are backed by a shape `(2, 768)` which mark a token as belonging to the first or second input_\n",
    " - Positional embeddings with shape `(1, n, 768)` to let BERT know that the inputs it is being fed have a temporal property.\n",
    "   - _These are backed by a `(512, 768)` which encode each position in the max-length of the input_\n",
    "\n",
    " Since these are all of the same shape. They are simply summed for each input. The paper says that this summed input `(1, n, 768)` is what is passed to BERT's Encoder layer!! So all the neural learning happens earlier ? The following image makes much more sense now!\n",
    "\n",
    "![](./img/bert-embedding-layers.webp)\n",
    "\n",
    "## Aside\n",
    "\n",
    " One of the papers linked [Machine translation - Wu Et. Al.](https://arxiv.org/pdf/1609.08144.pdf) shows the name of one of my kid's friend's dad! How cool!\n",
    "\n"
   ]
  },
  {
   "cell_type": "markdown",
   "metadata": {},
   "source": []
  }
 ],
 "metadata": {
  "kernelspec": {
   "display_name": "ml",
   "language": "python",
   "name": "python3"
  },
  "language_info": {
   "codemirror_mode": {
    "name": "ipython",
    "version": 3
   },
   "file_extension": ".py",
   "mimetype": "text/x-python",
   "name": "python",
   "nbconvert_exporter": "python",
   "pygments_lexer": "ipython3",
   "version": "3.10.11"
  }
 },
 "nbformat": 4,
 "nbformat_minor": 2
}
